{
 "cells": [
  {
   "cell_type": "markdown",
   "metadata": {},
   "source": [
    "<img src=\"../../dsix.png\" style=\"height:128px;\">"
   ]
  },
  {
   "cell_type": "markdown",
   "metadata": {},
   "source": [
    "# Natural Language Processing: Zipf's Law"
   ]
  },
  {
   "cell_type": "markdown",
   "metadata": {},
   "source": [
    "You've had a lot of practice learning about how to clean and visualize data with useful Python tools like Pandas and Matplotlib. Now, let's see how these can be used in natural language processing, the study of how we can use computing to analyze and understand human language.\n",
    "\n",
    "One major challenge in natural language processing (or NLP, for short), is looking at how *frequently* certain words are used, which helps us create machine learning algorithms to better understand language."
   ]
  },
  {
   "cell_type": "markdown",
   "metadata": {},
   "source": [
    "The American linguist George Kingsley Zipf devised a mathematical relationship between the frequency of a word (the number of times it occurs), and its rank (1st, 2nd, 3rd most common) in a text. We will first investigate the amount of times a word occurs in a text, and then use our skills to clean and visualize parts of datasets that are used by leading NLP researchers."
   ]
  },
  {
   "cell_type": "markdown",
   "metadata": {},
   "source": [
    "## Warm-up"
   ]
  },
  {
   "cell_type": "markdown",
   "metadata": {},
   "source": [
    "First, let's look at how we determine rank and frequency, using the text of the famous writer Rabindranath Tagore's short story _The Postman_. First, just run the cells below."
   ]
  },
  {
   "cell_type": "code",
   "execution_count": 2,
   "metadata": {},
   "outputs": [],
   "source": [
    "import numpy as np\n",
    "import operator\n",
    "words = np.array([])\n",
    "with open(\"postmaster.txt\") as f:\n",
    "    for line in f.read().split(' '):\n",
    "        words = np.append(words, line)\n",
    "cleaned_words = np.array([])\n",
    "for w in words:\n",
    "    if w not in ['', '?', '!', '.', '<', '>', ':', '\"', '-']:\n",
    "        cleaned_words = np.append(cleaned_words, w.replace('\\n', ' ').lower())"
   ]
  },
  {
   "cell_type": "markdown",
   "metadata": {},
   "source": [
    "`cleaned_words` is an array, and each element in `cleaned_words` is a word in the story. How many words long is Tagore's text?"
   ]
  },
  {
   "cell_type": "code",
   "execution_count": 3,
   "metadata": {},
   "outputs": [
    {
     "data": {
      "text/plain": [
       "2173"
      ]
     },
     "execution_count": 3,
     "metadata": {},
     "output_type": "execute_result"
    }
   ],
   "source": [
    "len(cleaned_words)"
   ]
  },
  {
   "cell_type": "markdown",
   "metadata": {},
   "source": [
    "Fill out the code below such that the dictionary `counts` tells us how times each word appears in the text. Each key should be a word and each value should be the amount of times the word occurs in the text."
   ]
  },
  {
   "cell_type": "code",
   "execution_count": 4,
   "metadata": {},
   "outputs": [],
   "source": [
    "counts = {}\n",
    "for w in cleaned_words:\n",
    "    if w not in counts:\n",
    "        counts[w] = 1\n",
    "    else:\n",
    "        counts[w] += 1\n"
   ]
  },
  {
   "cell_type": "markdown",
   "metadata": {},
   "source": [
    "How many times does the word \"postmaster\" appear in the text?"
   ]
  },
  {
   "cell_type": "code",
   "execution_count": 5,
   "metadata": {},
   "outputs": [
    {
     "data": {
      "text/plain": [
       "22"
      ]
     },
     "execution_count": 5,
     "metadata": {},
     "output_type": "execute_result"
    }
   ],
   "source": [
    "counts['postmaster']"
   ]
  },
  {
   "cell_type": "markdown",
   "metadata": {},
   "source": [
    "What does the array `sorted_freq` show us? Based on the values of `sorted_freq`, what values would have rank 1? Rank 2? Discuss with your partner."
   ]
  },
  {
   "cell_type": "code",
   "execution_count": 6,
   "metadata": {},
   "outputs": [],
   "source": [
    "sorted_freq = np.flip(np.asarray(sorted(counts.items(), key=operator.itemgetter(1))), 0)"
   ]
  },
  {
   "cell_type": "markdown",
   "metadata": {},
   "source": [
    "Here, look at the first 20 values of `sorted_freq`. Hint: use list slicing."
   ]
  },
  {
   "cell_type": "code",
   "execution_count": 7,
   "metadata": {},
   "outputs": [
    {
     "data": {
      "text/plain": [
       "array([['the', '162'],\n",
       "       ['of', '68'],\n",
       "       ['and', '57'],\n",
       "       ['to', '48'],\n",
       "       ['a', '48'],\n",
       "       ['in', '43'],\n",
       "       ['his', '40'],\n",
       "       ['was', '29'],\n",
       "       ['he', '28'],\n",
       "       ['had', '28'],\n",
       "       ['her', '26'],\n",
       "       ['she', '25'],\n",
       "       ['would', '22'],\n",
       "       ['postmaster', '22'],\n",
       "       ['for', '21'],\n",
       "       ['on', '21'],\n",
       "       ['with', '19'],\n",
       "       ['at', '18'],\n",
       "       ['ratan', '15'],\n",
       "       ['that', '15']], dtype='<U17')"
      ]
     },
     "execution_count": 7,
     "metadata": {},
     "output_type": "execute_result"
    }
   ],
   "source": [
    "sorted_freq[:20]"
   ]
  },
  {
   "cell_type": "markdown",
   "metadata": {},
   "source": [
    "**Interact: ** Discuss what you think is the mathematical relationship between frequency and rank with your group."
   ]
  },
  {
   "cell_type": "markdown",
   "metadata": {},
   "source": [
    "## The Corpus of Contemporary American English"
   ]
  },
  {
   "cell_type": "markdown",
   "metadata": {},
   "source": [
    "Although we can get somewhat of an idea about word frequencies by looking at short stories and books, much of natural language processing works with analyzing large collections of text coming from multiple sources like books, magazines, and even films! A _corpus_ is one such collection of textual data.\n",
    "\n",
    "We will observe how Zipf's Law works using the Corpus of Contemporary American English (COCA), found at https://corpus.byu.edu/coca/old/, which contains over 560 million words from texts ranging from television programs to science magazines, and is used extensively by NLP researchers."
   ]
  },
  {
   "cell_type": "markdown",
   "metadata": {},
   "source": [
    "First, load the file `coca_sample.csv` as a Pandas dataframe, and assign it to the variable `coca`. Remember to import the library Pandas as well!"
   ]
  },
  {
   "cell_type": "code",
   "execution_count": 8,
   "metadata": {},
   "outputs": [],
   "source": [
    "#Import Pandas here\n",
    "import pandas as pd"
   ]
  },
  {
   "cell_type": "code",
   "execution_count": 9,
   "metadata": {},
   "outputs": [],
   "source": [
    "#Read the CSV here\n",
    "coca = pd.read_csv('coca_sample.csv')"
   ]
  },
  {
   "cell_type": "markdown",
   "metadata": {},
   "source": [
    "In the table, we can see words(the column `lemma`), their rank, their frequency(the column `TOT FREQ`), and the frequency of a word in a particular type of media, such as newspapers, magazines, and fiction books. Look at the table here for a minute or so and think about the relationship between the rank and frequency of a word."
   ]
  },
  {
   "cell_type": "code",
   "execution_count": 18,
   "metadata": {},
   "outputs": [
    {
     "data": {
      "text/html": [
       "<div>\n",
       "<style scoped>\n",
       "    .dataframe tbody tr th:only-of-type {\n",
       "        vertical-align: middle;\n",
       "    }\n",
       "\n",
       "    .dataframe tbody tr th {\n",
       "        vertical-align: top;\n",
       "    }\n",
       "\n",
       "    .dataframe thead th {\n",
       "        text-align: right;\n",
       "    }\n",
       "</style>\n",
       "<table border=\"1\" class=\"dataframe\">\n",
       "  <thead>\n",
       "    <tr style=\"text-align: right;\">\n",
       "      <th></th>\n",
       "      <th>rank</th>\n",
       "      <th>lemma</th>\n",
       "      <th>PoS</th>\n",
       "      <th>DISPERSION</th>\n",
       "      <th>TOT FREQ</th>\n",
       "      <th>TV</th>\n",
       "      <th>FICTION</th>\n",
       "      <th>MAGAZINE</th>\n",
       "      <th>NEWSPAPER</th>\n",
       "      <th>ACADEMIC</th>\n",
       "    </tr>\n",
       "  </thead>\n",
       "  <tbody>\n",
       "    <tr>\n",
       "      <th>0</th>\n",
       "      <td>NaN</td>\n",
       "      <td>NaN</td>\n",
       "      <td>NaN</td>\n",
       "      <td>NaN</td>\n",
       "      <td>4.023770e+02</td>\n",
       "      <td>81.69</td>\n",
       "      <td>78.752</td>\n",
       "      <td>83.275</td>\n",
       "      <td>79.368</td>\n",
       "      <td>79.292</td>\n",
       "    </tr>\n",
       "    <tr>\n",
       "      <th>1</th>\n",
       "      <td>1.0</td>\n",
       "      <td>the</td>\n",
       "      <td>a</td>\n",
       "      <td>0.98</td>\n",
       "      <td>2.203891e+07</td>\n",
       "      <td>3859682.00</td>\n",
       "      <td>4092394.000</td>\n",
       "      <td>4544271.000</td>\n",
       "      <td>4284053.000</td>\n",
       "      <td>5137949.000</td>\n",
       "    </tr>\n",
       "    <tr>\n",
       "      <th>2</th>\n",
       "      <td>11.0</td>\n",
       "      <td>I</td>\n",
       "      <td>p</td>\n",
       "      <td>0.93</td>\n",
       "      <td>3.978498e+06</td>\n",
       "      <td>1346545.00</td>\n",
       "      <td>1382716.000</td>\n",
       "      <td>569402.000</td>\n",
       "      <td>465379.000</td>\n",
       "      <td>168243.000</td>\n",
       "    </tr>\n",
       "    <tr>\n",
       "      <th>3</th>\n",
       "      <td>21.0</td>\n",
       "      <td>they</td>\n",
       "      <td>p</td>\n",
       "      <td>0.96</td>\n",
       "      <td>1.865844e+06</td>\n",
       "      <td>609735.00</td>\n",
       "      <td>352405.000</td>\n",
       "      <td>312468.000</td>\n",
       "      <td>334313.000</td>\n",
       "      <td>246811.000</td>\n",
       "    </tr>\n",
       "    <tr>\n",
       "      <th>4</th>\n",
       "      <td>31.0</td>\n",
       "      <td>she</td>\n",
       "      <td>p</td>\n",
       "      <td>0.91</td>\n",
       "      <td>1.485143e+06</td>\n",
       "      <td>212920.00</td>\n",
       "      <td>798208.000</td>\n",
       "      <td>194131.000</td>\n",
       "      <td>192542.000</td>\n",
       "      <td>57239.000</td>\n",
       "    </tr>\n",
       "  </tbody>\n",
       "</table>\n",
       "</div>"
      ],
      "text/plain": [
       "   rank lemma  PoS  DISPERSION      TOT FREQ          TV      FICTION  \\\n",
       "0   NaN   NaN  NaN         NaN  4.023770e+02       81.69       78.752   \n",
       "1   1.0   the    a        0.98  2.203891e+07  3859682.00  4092394.000   \n",
       "2  11.0     I    p        0.93  3.978498e+06  1346545.00  1382716.000   \n",
       "3  21.0  they    p        0.96  1.865844e+06   609735.00   352405.000   \n",
       "4  31.0   she    p        0.91  1.485143e+06   212920.00   798208.000   \n",
       "\n",
       "      MAGAZINE    NEWSPAPER     ACADEMIC  \n",
       "0       83.275       79.368       79.292  \n",
       "1  4544271.000  4284053.000  5137949.000  \n",
       "2   569402.000   465379.000   168243.000  \n",
       "3   312468.000   334313.000   246811.000  \n",
       "4   194131.000   192542.000    57239.000  "
      ]
     },
     "execution_count": 18,
     "metadata": {},
     "output_type": "execute_result"
    }
   ],
   "source": [
    "coca.head()"
   ]
  },
  {
   "cell_type": "markdown",
   "metadata": {},
   "source": [
    "We have a lot of words! But we also have a lot of different columns. For the sake of this analysis, we will focus on words belonging to the following columns: `SPOKEN`, `FICTION`, `POP`, `MAG`, `NEWSPAPER`, `ACADEMIC`, as they are the six major types of media represented in the corpus. Write a line of code that will slice the dataframe up to the column labeled (`ACADEMIC`). Reassign `coca` to this slice."
   ]
  },
  {
   "cell_type": "code",
   "execution_count": 11,
   "metadata": {},
   "outputs": [],
   "source": [
    "coca = coca.loc[:, :'ACADEMIC']"
   ]
  },
  {
   "cell_type": "markdown",
   "metadata": {},
   "source": [
    "These column names are a little confusing! Let's try renaming the 'SPOKEN' column."
   ]
  },
  {
   "cell_type": "code",
   "execution_count": 12,
   "metadata": {},
   "outputs": [],
   "source": [
    "coca = coca.rename(index=str, columns={\"SPOKEN\": \"TV\", 'POP MAG': \"MAGAZINE\"})"
   ]
  },
  {
   "cell_type": "markdown",
   "metadata": {},
   "source": [
    "## Plotting Frequencies"
   ]
  },
  {
   "cell_type": "markdown",
   "metadata": {},
   "source": [
    "We're ready to start plotting our data now! First, import Matplotlib using the conventions we learned earlier in this module."
   ]
  },
  {
   "cell_type": "code",
   "execution_count": 13,
   "metadata": {},
   "outputs": [],
   "source": [
    "import matplotlib.pyplot as plt"
   ]
  },
  {
   "cell_type": "markdown",
   "metadata": {},
   "source": [
    "Now, make a separate plot for each genre. Before you make the plot, think about if different genres exhibit different relationships between rank and frequency. Remember to label your axes!"
   ]
  },
  {
   "cell_type": "code",
   "execution_count": 16,
   "metadata": {},
   "outputs": [
    {
     "data": {
      "text/plain": [
       "<matplotlib.legend.Legend at 0x10c66b320>"
      ]
     },
     "execution_count": 16,
     "metadata": {},
     "output_type": "execute_result"
    },
    {
     "data": {
      "image/png": "[encoded data removed]",
      "text/plain": [
       "<matplotlib.figure.Figure at 0x10c663438>"
      ]
     },
     "metadata": {},
     "output_type": "display_data"
    }
   ],
   "source": [
    "genres = ['TV', 'FICTION', 'MAGAZINE', 'NEWSPAPER', 'ACADEMIC']\n",
    "for i in genres:\n",
    "    plt.plot(coca['rank'], coca[i], label=i)\n",
    "plt.xlabel('Word Rank')\n",
    "plt.ylabel('Word Frequency')\n",
    "plt.xlim(0, 1000) #Follow-up answer\n",
    "plt.legend()"
   ]
  },
  {
   "cell_type": "markdown",
   "metadata": {},
   "source": [
    "Zipf's Law states that there's an *inverse* relationship between the rank of a word and its frequency in a text is- if a word has a small rank, then we are more likely to see more instances of it. In addition, the amount of times a word occurs in a text gets really small really fast, and then keeps decreasing extremely slowly as it is close to zero. This means that the frequency *exponentially* decreases with increasing rank!\n",
    "\n",
    "**Interact: ** Do you think the genre of the text matters in this case? Or do all texts exhibit a similar relationship? How can you tell from the graph?"
   ]
  },
  {
   "cell_type": "markdown",
   "metadata": {},
   "source": [
    "**Follow-Up:** Let's take a closer look at the shape of the curve. Modify your code above so that the graph only shows words up to rank 1000."
   ]
  },
  {
   "cell_type": "markdown",
   "metadata": {},
   "source": [
    "## Parts of Speech"
   ]
  },
  {
   "cell_type": "markdown",
   "metadata": {},
   "source": [
    "Now, we're going to look at if Zipf's Law holds for individual parts of speech. Parts of this exercise can be done through inspection, but the purpose is to help you practice your skills with cleaning data."
   ]
  },
  {
   "cell_type": "markdown",
   "metadata": {},
   "source": [
    "First, use a Pandas function to find how many times each part of speech is represented in our corpus, and call it `parts_of_speech`.\n",
    "The column PoS tells us what part of speech a particular word is."
   ]
  },
  {
   "cell_type": "code",
   "execution_count": 48,
   "metadata": {},
   "outputs": [],
   "source": [
    "parts_of_speech = coca.groupby('PoS')[['TOT FREQ']].agg('count')"
   ]
  },
  {
   "cell_type": "markdown",
   "metadata": {},
   "source": [
    "**Interact: **What do you notice about the data? Are there more occurences of one part of speech? Which do you think it is? (Noun? Verb? Adjective?)"
   ]
  },
  {
   "cell_type": "markdown",
   "metadata": {},
   "source": [
    "Find the parts of speech that have at least 300 occurrences, and assign it to the variable `top_pos`."
   ]
  },
  {
   "cell_type": "code",
   "execution_count": 28,
   "metadata": {},
   "outputs": [
    {
     "data": {
      "text/html": [
       "<div>\n",
       "<style scoped>\n",
       "    .dataframe tbody tr th:only-of-type {\n",
       "        vertical-align: middle;\n",
       "    }\n",
       "\n",
       "    .dataframe tbody tr th {\n",
       "        vertical-align: top;\n",
       "    }\n",
       "\n",
       "    .dataframe thead th {\n",
       "        text-align: right;\n",
       "    }\n",
       "</style>\n",
       "<table border=\"1\" class=\"dataframe\">\n",
       "  <thead>\n",
       "    <tr style=\"text-align: right;\">\n",
       "      <th></th>\n",
       "      <th>PoS</th>\n",
       "      <th>TOT FREQ</th>\n",
       "    </tr>\n",
       "  </thead>\n",
       "  <tbody>\n",
       "    <tr>\n",
       "      <th>0</th>\n",
       "      <td>a</td>\n",
       "      <td>1</td>\n",
       "    </tr>\n",
       "    <tr>\n",
       "      <th>1</th>\n",
       "      <td>c</td>\n",
       "      <td>5</td>\n",
       "    </tr>\n",
       "    <tr>\n",
       "      <th>2</th>\n",
       "      <td>d</td>\n",
       "      <td>6</td>\n",
       "    </tr>\n",
       "    <tr>\n",
       "      <th>3</th>\n",
       "      <td>i</td>\n",
       "      <td>5</td>\n",
       "    </tr>\n",
       "    <tr>\n",
       "      <th>4</th>\n",
       "      <td>j</td>\n",
       "      <td>2367</td>\n",
       "    </tr>\n",
       "    <tr>\n",
       "      <th>5</th>\n",
       "      <td>m</td>\n",
       "      <td>48</td>\n",
       "    </tr>\n",
       "    <tr>\n",
       "      <th>6</th>\n",
       "      <td>n</td>\n",
       "      <td>2652</td>\n",
       "    </tr>\n",
       "    <tr>\n",
       "      <th>7</th>\n",
       "      <td>p</td>\n",
       "      <td>14</td>\n",
       "    </tr>\n",
       "    <tr>\n",
       "      <th>8</th>\n",
       "      <td>r</td>\n",
       "      <td>300</td>\n",
       "    </tr>\n",
       "    <tr>\n",
       "      <th>9</th>\n",
       "      <td>u</td>\n",
       "      <td>12</td>\n",
       "    </tr>\n",
       "    <tr>\n",
       "      <th>10</th>\n",
       "      <td>v</td>\n",
       "      <td>593</td>\n",
       "    </tr>\n",
       "  </tbody>\n",
       "</table>\n",
       "</div>"
      ],
      "text/plain": [
       "   PoS  TOT FREQ\n",
       "0    a         1\n",
       "1    c         5\n",
       "2    d         6\n",
       "3    i         5\n",
       "4    j      2367\n",
       "5    m        48\n",
       "6    n      2652\n",
       "7    p        14\n",
       "8    r       300\n",
       "9    u        12\n",
       "10   v       593"
      ]
     },
     "execution_count": 28,
     "metadata": {},
     "output_type": "execute_result"
    }
   ],
   "source": [
    "#This code modifies the dataframe so you can use filter it based on values in the 'PoS' column\n",
    "parts_of_speech = parts_of_speech.reset_index()\n",
    "parts_of_speech"
   ]
  },
  {
   "cell_type": "code",
   "execution_count": 37,
   "metadata": {},
   "outputs": [
    {
     "data": {
      "text/html": [
       "<div>\n",
       "<style scoped>\n",
       "    .dataframe tbody tr th:only-of-type {\n",
       "        vertical-align: middle;\n",
       "    }\n",
       "\n",
       "    .dataframe tbody tr th {\n",
       "        vertical-align: top;\n",
       "    }\n",
       "\n",
       "    .dataframe thead th {\n",
       "        text-align: right;\n",
       "    }\n",
       "</style>\n",
       "<table border=\"1\" class=\"dataframe\">\n",
       "  <thead>\n",
       "    <tr style=\"text-align: right;\">\n",
       "      <th></th>\n",
       "      <th>TOT FREQ</th>\n",
       "    </tr>\n",
       "    <tr>\n",
       "      <th>PoS</th>\n",
       "      <th></th>\n",
       "    </tr>\n",
       "  </thead>\n",
       "  <tbody>\n",
       "    <tr>\n",
       "      <th>j</th>\n",
       "      <td>2367</td>\n",
       "    </tr>\n",
       "    <tr>\n",
       "      <th>n</th>\n",
       "      <td>2652</td>\n",
       "    </tr>\n",
       "    <tr>\n",
       "      <th>r</th>\n",
       "      <td>300</td>\n",
       "    </tr>\n",
       "    <tr>\n",
       "      <th>v</th>\n",
       "      <td>593</td>\n",
       "    </tr>\n",
       "  </tbody>\n",
       "</table>\n",
       "</div>"
      ],
      "text/plain": [
       "     TOT FREQ\n",
       "PoS          \n",
       "j        2367\n",
       "n        2652\n",
       "r         300\n",
       "v         593"
      ]
     },
     "execution_count": 37,
     "metadata": {},
     "output_type": "execute_result"
    }
   ],
   "source": [
    "top_pos = parts_of_speech[parts_of_speech['TOT FREQ'] >= 300]\n",
    "top_pos"
   ]
  },
  {
   "cell_type": "markdown",
   "metadata": {},
   "source": [
    "The list `part_lst` gives us a list of the parts of speech represented in the dataframe `top_pos`"
   ]
  },
  {
   "cell_type": "code",
   "execution_count": 38,
   "metadata": {},
   "outputs": [
    {
     "data": {
      "text/plain": [
       "['j', 'n', 'r', 'v']"
      ]
     },
     "execution_count": 38,
     "metadata": {},
     "output_type": "execute_result"
    }
   ],
   "source": [
    "part_lst = list(top_pos.index)\n",
    "part_lst"
   ]
  },
  {
   "cell_type": "markdown",
   "metadata": {},
   "source": [
    "Write a function that plots the distribution of words for each part of speech using what you learned about filtering and plotting. Run this on each item in `part_lst`. The function should take in one part of speech, filter the original `coca` dataframe by that part of speech, and then plot rank vs. frequency like the previous exercises."
   ]
  },
  {
   "cell_type": "code",
   "execution_count": 52,
   "metadata": {},
   "outputs": [],
   "source": [
    "def plot_part(pos):\n",
    "    words_for_part = coca[coca['PoS'] == pos]\n",
    "    plt.plot(words_for_part['rank'], words_for_part['TOT FREQ'], label=pos)\n",
    "    plt.xlabel('Word Rank')\n",
    "    plt.ylabel('Word Frequency')\n",
    "    plt.xlim(0, 2000) \n",
    "    plt.legend()"
   ]
  },
  {
   "cell_type": "code",
   "execution_count": 53,
   "metadata": {},
   "outputs": [
    {
     "data": {
      "image/png": "[encoded data removed]",
      "text/plain": [
       "<matplotlib.figure.Figure at 0x112eb9198>"
      ]
     },
     "metadata": {},
     "output_type": "display_data"
    }
   ],
   "source": [
    "for i in part_lst:\n",
    "    plot_part(i)"
   ]
  },
  {
   "cell_type": "markdown",
   "metadata": {},
   "source": [
    "**Interact: ** Do you think the part of speech matters in this case? Does Zipf's Law hold across all major parts of speech? How can you tell from the graph?"
   ]
  },
  {
   "cell_type": "markdown",
   "metadata": {},
   "source": [
    "## Transforming The Curve"
   ]
  },
  {
   "cell_type": "markdown",
   "metadata": {},
   "source": [
    "Let's begin our final exercise by plotting the total frequency as a function of rank. We've done a lot of plots like this before, but now, we're going to observe something special by changing how the relationship is represented mathematically."
   ]
  },
  {
   "cell_type": "code",
   "execution_count": 61,
   "metadata": {},
   "outputs": [
    {
     "data": {
      "text/plain": [
       "(0, 1000)"
      ]
     },
     "execution_count": 61,
     "metadata": {},
     "output_type": "execute_result"
    },
    {
     "data": {
      "image/png": "[encoded data removed]",
      "text/plain": [
       "<matplotlib.figure.Figure at 0x1132a94a8>"
      ]
     },
     "metadata": {},
     "output_type": "display_data"
    }
   ],
   "source": [
    "plt.plot(coca['rank'], coca['TOT FREQ'])\n",
    "plt.xlabel('Word Rank')\n",
    "plt.ylabel('Word Frequency')\n",
    "plt.xlim(0, 1000) \n"
   ]
  },
  {
   "cell_type": "markdown",
   "metadata": {},
   "source": [
    "**Interact: ** What kind of _mathematical_ function do you think this curve represents? Think of it in terms of the relationship between rank and frequency. If $f(rank) = frequency$, then what kind of function would $f$ be?"
   ]
  },
  {
   "cell_type": "markdown",
   "metadata": {},
   "source": [
    "Once you discuss your idea with other students and confirm with an instructor, think about the _opposite_ operation, and apply it on both rank and frequency. First, make arrays out of the rank and frequency columns, and then use the appropriate Numpy function on both of them."
   ]
  },
  {
   "cell_type": "code",
   "execution_count": 62,
   "metadata": {},
   "outputs": [],
   "source": [
    "rank = coca['rank']\n",
    "frq = coca['TOT FREQ']\n",
    "log_rank = np.log(rank)\n",
    "log_frq = np.log(frq)"
   ]
  },
  {
   "cell_type": "markdown",
   "metadata": {},
   "source": [
    "Plot the modified rank and frequency arrays and see what changes."
   ]
  },
  {
   "cell_type": "code",
   "execution_count": 66,
   "metadata": {},
   "outputs": [
    {
     "data": {
      "text/plain": [
       "(0, 20)"
      ]
     },
     "execution_count": 66,
     "metadata": {},
     "output_type": "execute_result"
    },
    {
     "data": {
      "image/png": "[encoded data removed]",
      "text/plain": [
       "<matplotlib.figure.Figure at 0x112eb9198>"
      ]
     },
     "metadata": {},
     "output_type": "display_data"
    }
   ],
   "source": [
    "plt.plot(log_rank, log_frq)\n",
    "plt.xlabel('Log Rank')\n",
    "plt.ylabel('Log Frequency')\n",
    "plt.xlim(0, 20) \n"
   ]
  },
  {
   "cell_type": "markdown",
   "metadata": {},
   "source": [
    "Discuss the significance of this relationship with your instructor and classmates! This transformation is extremely useful in data science, especially when working with high volumes of data."
   ]
  }
 ],
 "metadata": {
  "kernelspec": {
   "display_name": "Python [conda env:dsix]",
   "language": "python",
   "name": "conda-env-dsix-py"
  },
  "language_info": {
   "codemirror_mode": {
    "name": "ipython",
    "version": 3
   },
   "file_extension": ".py",
   "mimetype": "text/x-python",
   "name": "python",
   "nbconvert_exporter": "python",
   "pygments_lexer": "ipython3",
   "version": "3.6.4"
  }
 },
 "nbformat": 4,
 "nbformat_minor": 2
}
